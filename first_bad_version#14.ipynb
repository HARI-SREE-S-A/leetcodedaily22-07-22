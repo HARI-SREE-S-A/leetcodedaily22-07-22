{
 "cells": [
  {
   "cell_type": "code",
   "execution_count": null,
   "metadata": {},
   "outputs": [],
   "source": [
    "class Solution:\n",
    "    def firstBadVersion(self, n: int) -> int:\n",
    "            i = 1\n",
    "            j = n\n",
    "            \n",
    "            if isBadVersion(i) == True:\n",
    "                return i\n",
    "            if isBadVersion(j) == True and isBadVersion(j -1) == False:\n",
    "                return j \n",
    "            while (i <j):\n",
    "                mid  = (i + j ) // 2\n",
    "                if isBadVersion(mid) == True and isBadVersion(mid -1) == False:\n",
    "                    return mid\n",
    "                if isBadVersion(mid) == False:\n",
    "                    i = mid\n",
    "                if isBadVersion(mid) == True:\n",
    "                    j = mid"
   ]
  }
 ],
 "metadata": {
  "language_info": {
   "name": "python"
  },
  "orig_nbformat": 4
 },
 "nbformat": 4,
 "nbformat_minor": 2
}
