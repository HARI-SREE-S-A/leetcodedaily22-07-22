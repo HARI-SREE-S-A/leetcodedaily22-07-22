{
 "cells": [
  {
   "cell_type": "code",
   "execution_count": null,
   "metadata": {},
   "outputs": [],
   "source": [
    "# Definition for singly-linked list.\n",
    "# class ListNode:\n",
    "#     def __init__(self, val=0, next=None):\n",
    "#         self.val = val\n",
    "#         self.next = next\n",
    "class Solution:\n",
    "    def addTwoNumbers(self, l1: Optional[ListNode], l2: Optional[ListNode]) -> Optional[ListNode]:\n",
    "        carry = 0\n",
    "        newlist = ListNode(0)\n",
    "        result = newlist\n",
    "        while (l1 or l2 or carry):\n",
    "            anum = l1.val if l1 else 0\n",
    "            bnum = l2.val if l2 else 0 \n",
    "            \n",
    "            summ = anum + bnum + carry\n",
    "            num = summ %10\n",
    "            carry = summ //10\n",
    "            \n",
    "            result.next = ListNode(num)\n",
    "            result = result.next\n",
    "            l1 = l1.next if l1 else None\n",
    "            l2 = l2.next if l2 else None\n",
    "                                    \n",
    "        return newlist.next\n",
    "        "
   ]
  }
 ],
 "metadata": {
  "language_info": {
   "name": "python"
  },
  "orig_nbformat": 4
 },
 "nbformat": 4,
 "nbformat_minor": 2
}
