{
 "cells": [
  {
   "cell_type": "code",
   "execution_count": null,
   "metadata": {},
   "outputs": [],
   "source": [
    "# Definition for singly-linked list.\n",
    "# class ListNode:\n",
    "#     def __init__(self, x):\n",
    "#         self.val = x\n",
    "#         self.next = None\n",
    "\n",
    "class Solution:\n",
    "    def maxProfit(self, prices: List[int]) -> int:\n",
    "        minprice = 9999999999\n",
    "        maxprofit = 0\n",
    "        for i in range(len(prices)):\n",
    "            if prices[i] < minprice:\n",
    "                minprice = prices[i]\n",
    "            elif (prices[i] - minprice > maxprofit):\n",
    "                maxprofit = prices[i] - minprice\n",
    "        return maxprofit"
   ]
  }
 ],
 "metadata": {
  "language_info": {
   "name": "python"
  },
  "orig_nbformat": 4
 },
 "nbformat": 4,
 "nbformat_minor": 2
}
