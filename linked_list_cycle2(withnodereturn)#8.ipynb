{
 "cells": [
  {
   "cell_type": "code",
   "execution_count": null,
   "metadata": {},
   "outputs": [],
   "source": [
    "# Definition for singly-linked list.\n",
    "# class ListNode:\n",
    "#     def __init__(self, x):\n",
    "#         self.val = x\n",
    "#         self.next = None\n",
    "\n",
    "class Solution:\n",
    "    def detectCycle(self, head: Optional[ListNode]) -> Optional[ListNode]:\n",
    "        cycle = bike =head\n",
    "        while bike and bike.next:\n",
    "            cycle = cycle.next\n",
    "            bike = bike.next.next\n",
    "            \n",
    "            if bike == cycle:\n",
    "                cycle = head\n",
    "                while cycle != bike:\n",
    "                    cycle = cycle.next\n",
    "                    bike = bike.next\n",
    "                    \n",
    "                return bike\n",
    "        \n",
    "        return None"
   ]
  }
 ],
 "metadata": {
  "language_info": {
   "name": "python"
  },
  "orig_nbformat": 4
 },
 "nbformat": 4,
 "nbformat_minor": 2
}
