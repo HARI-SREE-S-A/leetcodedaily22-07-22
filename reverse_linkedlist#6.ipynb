{
 "cells": [
  {
   "cell_type": "code",
   "execution_count": null,
   "metadata": {},
   "outputs": [],
   "source": [
    "# Definition for singly-linked list.\n",
    "# class ListNode:\n",
    "#     def __init__(self, val=0, next=None):\n",
    "#         self.val = val\n",
    "#         self.next = next\n",
    "class Solution:\n",
    "    def reverseList(self, head: Optional[ListNode]) -> Optional[ListNode]:\n",
    "        curr = head\n",
    "        prev = None\n",
    "        \n",
    "        while curr:\n",
    "            nxt = curr.next\n",
    "            curr.next = prev\n",
    "            prev = curr\n",
    "            curr = nxt\n",
    "        return prev\n",
    "            "
   ]
  }
 ],
 "metadata": {
  "language_info": {
   "name": "python"
  },
  "orig_nbformat": 4
 },
 "nbformat": 4,
 "nbformat_minor": 2
}
